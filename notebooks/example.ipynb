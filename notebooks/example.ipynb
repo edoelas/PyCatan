{
 "cells": [
  {
   "cell_type": "code",
   "execution_count": 1,
   "metadata": {},
   "outputs": [
    {
     "ename": "ValueError",
     "evalue": "empty range in randrange(0, -1)",
     "output_type": "error",
     "traceback": [
      "\u001b[1;31m---------------------------------------------------------------------------\u001b[0m",
      "\u001b[1;31mValueError\u001b[0m                                Traceback (most recent call last)",
      "Cell \u001b[1;32mIn[1], line 12\u001b[0m\n\u001b[0;32m     10\u001b[0m \u001b[38;5;28;01mfor\u001b[39;00m i \u001b[38;5;129;01min\u001b[39;00m \u001b[38;5;28mrange\u001b[39m(\u001b[38;5;241m100\u001b[39m):\n\u001b[0;32m     11\u001b[0m     random\u001b[38;5;241m.\u001b[39mseed(i)\n\u001b[1;32m---> 12\u001b[0m     \u001b[43mgame_director\u001b[49m\u001b[38;5;241;43m.\u001b[39;49m\u001b[43mgame_start\u001b[49m\u001b[43m(\u001b[49m\u001b[43mi\u001b[49m\u001b[43m)\u001b[49m\n",
      "File \u001b[1;32mc:\\Users\\miedgo\\git\\PyCatan\\notebooks\\..\\Managers\\GameDirector.py:237\u001b[0m, in \u001b[0;36mGameDirector.game_start\u001b[1;34m(self, game_number, print_outcome)\u001b[0m\n\u001b[0;32m    234\u001b[0m     setup_object[\u001b[38;5;124m\"\u001b[39m\u001b[38;5;124mP\u001b[39m\u001b[38;5;124m\"\u001b[39m \u001b[38;5;241m+\u001b[39m \u001b[38;5;28mstr\u001b[39m(i)]\u001b[38;5;241m.\u001b[39mappend({\u001b[38;5;124m\"\u001b[39m\u001b[38;5;124mid\u001b[39m\u001b[38;5;124m\"\u001b[39m: node_id, \u001b[38;5;124m\"\u001b[39m\u001b[38;5;124mroad\u001b[39m\u001b[38;5;124m\"\u001b[39m: road_to})\n\u001b[0;32m    236\u001b[0m \u001b[38;5;28mself\u001b[39m\u001b[38;5;241m.\u001b[39mtrace_loader\u001b[38;5;241m.\u001b[39mcurrent_trace[\u001b[38;5;124m\"\u001b[39m\u001b[38;5;124msetup\u001b[39m\u001b[38;5;124m\"\u001b[39m] \u001b[38;5;241m=\u001b[39m setup_object\n\u001b[1;32m--> 237\u001b[0m \u001b[38;5;28;43mself\u001b[39;49m\u001b[38;5;241;43m.\u001b[39;49m\u001b[43mgame_loop\u001b[49m\u001b[43m(\u001b[49m\u001b[43mgame_number\u001b[49m\u001b[43m,\u001b[49m\u001b[43m \u001b[49m\u001b[43mprint_outcome\u001b[49m\u001b[43m)\u001b[49m\n\u001b[0;32m    238\u001b[0m \u001b[38;5;28;01mreturn\u001b[39;00m \u001b[38;5;28mself\u001b[39m\u001b[38;5;241m.\u001b[39mtrace_loader\u001b[38;5;241m.\u001b[39mcurrent_trace\n",
      "File \u001b[1;32mc:\\Users\\miedgo\\git\\PyCatan\\notebooks\\..\\Managers\\GameDirector.py:248\u001b[0m, in \u001b[0;36mGameDirector.game_loop\u001b[1;34m(self, game_number, print_outcome)\u001b[0m\n\u001b[0;32m    246\u001b[0m winner \u001b[38;5;241m=\u001b[39m \u001b[38;5;28;01mFalse\u001b[39;00m\n\u001b[0;32m    247\u001b[0m \u001b[38;5;28;01mwhile\u001b[39;00m \u001b[38;5;129;01mnot\u001b[39;00m winner:\n\u001b[1;32m--> 248\u001b[0m     game_object[\u001b[38;5;124m'\u001b[39m\u001b[38;5;124mround_\u001b[39m\u001b[38;5;124m'\u001b[39m \u001b[38;5;241m+\u001b[39m \u001b[38;5;28mstr\u001b[39m(\u001b[38;5;28mself\u001b[39m\u001b[38;5;241m.\u001b[39mgame_manager\u001b[38;5;241m.\u001b[39mget_round())], winner \u001b[38;5;241m=\u001b[39m \u001b[38;5;28;43mself\u001b[39;49m\u001b[38;5;241;43m.\u001b[39;49m\u001b[43mround_start\u001b[49m\u001b[43m(\u001b[49m\u001b[43mwinner\u001b[49m\u001b[43m)\u001b[49m\n\u001b[0;32m    249\u001b[0m     \u001b[38;5;28mself\u001b[39m\u001b[38;5;241m.\u001b[39mgame_manager\u001b[38;5;241m.\u001b[39mset_round(\u001b[38;5;28mself\u001b[39m\u001b[38;5;241m.\u001b[39mgame_manager\u001b[38;5;241m.\u001b[39mget_round() \u001b[38;5;241m+\u001b[39m \u001b[38;5;241m1\u001b[39m)\n\u001b[0;32m    251\u001b[0m \u001b[38;5;28;01mif\u001b[39;00m print_outcome:\n",
      "File \u001b[1;32mc:\\Users\\miedgo\\git\\PyCatan\\notebooks\\..\\Managers\\GameDirector.py:170\u001b[0m, in \u001b[0;36mGameDirector.round_start\u001b[1;34m(self, winner)\u001b[0m\n\u001b[0;32m    167\u001b[0m trading \u001b[38;5;241m=\u001b[39m \u001b[38;5;28;01mTrue\u001b[39;00m\n\u001b[0;32m    169\u001b[0m \u001b[38;5;28;01mwhile\u001b[39;00m trading \u001b[38;5;129;01mand\u001b[39;00m \u001b[38;5;129;01mnot\u001b[39;00m winner:\n\u001b[1;32m--> 170\u001b[0m     commerce_phase_object, winner \u001b[38;5;241m=\u001b[39m \u001b[38;5;28;43mself\u001b[39;49m\u001b[38;5;241;43m.\u001b[39;49m\u001b[43mstart_commerce_phase\u001b[49m\u001b[43m(\u001b[49m\u001b[43mwinner\u001b[49m\u001b[43m,\u001b[49m\u001b[43m \u001b[49m\u001b[43mdepth\u001b[49m\u001b[43m,\u001b[49m\n\u001b[0;32m    171\u001b[0m \u001b[43m                                                              \u001b[49m\u001b[38;5;28;43mself\u001b[39;49m\u001b[38;5;241;43m.\u001b[39;49m\u001b[43mgame_manager\u001b[49m\u001b[38;5;241;43m.\u001b[39;49m\u001b[43mget_whose_turn_is_it\u001b[49m\u001b[43m(\u001b[49m\u001b[43m)\u001b[49m\u001b[43m)\u001b[49m\n\u001b[0;32m    172\u001b[0m     commerce_phase_array\u001b[38;5;241m.\u001b[39mappend(commerce_phase_object)\n\u001b[0;32m    173\u001b[0m     \u001b[38;5;28;01mif\u001b[39;00m commerce_phase_object[\u001b[38;5;124m'\u001b[39m\u001b[38;5;124mtrade_offer\u001b[39m\u001b[38;5;124m'\u001b[39m] \u001b[38;5;241m==\u001b[39m \u001b[38;5;124m'\u001b[39m\u001b[38;5;124mNone\u001b[39m\u001b[38;5;124m'\u001b[39m:\n",
      "File \u001b[1;32mc:\\Users\\miedgo\\git\\PyCatan\\notebooks\\..\\Managers\\GameDirector.py:122\u001b[0m, in \u001b[0;36mGameDirector.start_commerce_phase\u001b[1;34m(self, winner, depth, player)\u001b[0m\n\u001b[0;32m    118\u001b[0m commerce_phase_object \u001b[38;5;241m=\u001b[39m {}\n\u001b[0;32m    120\u001b[0m \u001b[38;5;28mself\u001b[39m\u001b[38;5;241m.\u001b[39mgame_manager\u001b[38;5;241m.\u001b[39mset_phase(\u001b[38;5;241m1\u001b[39m)\n\u001b[1;32m--> 122\u001b[0m commerce_response \u001b[38;5;241m=\u001b[39m \u001b[38;5;28;43mself\u001b[39;49m\u001b[38;5;241;43m.\u001b[39;49m\u001b[43mgame_manager\u001b[49m\u001b[38;5;241;43m.\u001b[39;49m\u001b[43mcall_to_agent_on_commerce_phase\u001b[49m\u001b[43m(\u001b[49m\u001b[43mplayer\u001b[49m\u001b[43m)\u001b[49m\n\u001b[0;32m    124\u001b[0m commerce_phase_object, winner \u001b[38;5;241m=\u001b[39m \u001b[38;5;28mself\u001b[39m\u001b[38;5;241m.\u001b[39mgame_manager\u001b[38;5;241m.\u001b[39mon_commerce_response(commerce_phase_object, commerce_response,\n\u001b[0;32m    125\u001b[0m                                                                        depth, player, winner)\n\u001b[0;32m    127\u001b[0m \u001b[38;5;28;01mreturn\u001b[39;00m commerce_phase_object, winner\n",
      "File \u001b[1;32mc:\\Users\\miedgo\\git\\PyCatan\\notebooks\\..\\Managers\\GameManager.py:749\u001b[0m, in \u001b[0;36mGameManager.call_to_agent_on_commerce_phase\u001b[1;34m(self, player_id)\u001b[0m\n\u001b[0;32m    744\u001b[0m \u001b[38;5;28;01mdef\u001b[39;00m \u001b[38;5;21mcall_to_agent_on_commerce_phase\u001b[39m(\u001b[38;5;28mself\u001b[39m, player_id):\n\u001b[0;32m    745\u001b[0m \u001b[38;5;250m    \u001b[39m\u001b[38;5;124;03m\"\"\"\u001b[39;00m\n\u001b[0;32m    746\u001b[0m \u001b[38;5;124;03m    :param player_id: int\u001b[39;00m\n\u001b[0;32m    747\u001b[0m \u001b[38;5;124;03m    :return: TradeOffer, dict{'gives': int, 'receives': int}, None\u001b[39;00m\n\u001b[0;32m    748\u001b[0m \u001b[38;5;124;03m    \"\"\"\u001b[39;00m\n\u001b[1;32m--> 749\u001b[0m     \u001b[38;5;28;01mreturn\u001b[39;00m \u001b[38;5;28;43mself\u001b[39;49m\u001b[38;5;241;43m.\u001b[39;49m\u001b[43magent_manager\u001b[49m\u001b[38;5;241;43m.\u001b[39;49m\u001b[43mplayers\u001b[49m\u001b[43m[\u001b[49m\u001b[43mplayer_id\u001b[49m\u001b[43m]\u001b[49m\u001b[43m[\u001b[49m\u001b[38;5;124;43m'\u001b[39;49m\u001b[38;5;124;43mplayer\u001b[39;49m\u001b[38;5;124;43m'\u001b[39;49m\u001b[43m]\u001b[49m\u001b[38;5;241;43m.\u001b[39;49m\u001b[43mon_commerce_phase\u001b[49m\u001b[43m(\u001b[49m\u001b[43m)\u001b[49m\n",
      "File \u001b[1;32mc:\\Users\\miedgo\\git\\PyCatan\\notebooks\\..\\Agents\\RandomAgent.py:79\u001b[0m, in \u001b[0;36mRandomAgent.on_commerce_phase\u001b[1;34m(self)\u001b[0m\n\u001b[0;32m     75\u001b[0m     \u001b[38;5;28;01mreturn\u001b[39;00m \u001b[38;5;28;01mNone\u001b[39;00m\n\u001b[0;32m     76\u001b[0m \u001b[38;5;28;01melse\u001b[39;00m:\n\u001b[0;32m     77\u001b[0m     gives \u001b[38;5;241m=\u001b[39m Materials(random\u001b[38;5;241m.\u001b[39mrandint(\u001b[38;5;241m0\u001b[39m, \u001b[38;5;28mself\u001b[39m\u001b[38;5;241m.\u001b[39mhand\u001b[38;5;241m.\u001b[39mresources\u001b[38;5;241m.\u001b[39mcereal),\n\u001b[0;32m     78\u001b[0m                       random\u001b[38;5;241m.\u001b[39mrandint(\u001b[38;5;241m0\u001b[39m, \u001b[38;5;28mself\u001b[39m\u001b[38;5;241m.\u001b[39mhand\u001b[38;5;241m.\u001b[39mresources\u001b[38;5;241m.\u001b[39mmineral),\n\u001b[1;32m---> 79\u001b[0m                       \u001b[43mrandom\u001b[49m\u001b[38;5;241;43m.\u001b[39;49m\u001b[43mrandint\u001b[49m\u001b[43m(\u001b[49m\u001b[38;5;241;43m0\u001b[39;49m\u001b[43m,\u001b[49m\u001b[43m \u001b[49m\u001b[38;5;28;43mself\u001b[39;49m\u001b[38;5;241;43m.\u001b[39;49m\u001b[43mhand\u001b[49m\u001b[38;5;241;43m.\u001b[39;49m\u001b[43mresources\u001b[49m\u001b[38;5;241;43m.\u001b[39;49m\u001b[43mclay\u001b[49m\u001b[43m)\u001b[49m,\n\u001b[0;32m     80\u001b[0m                       random\u001b[38;5;241m.\u001b[39mrandint(\u001b[38;5;241m0\u001b[39m, \u001b[38;5;28mself\u001b[39m\u001b[38;5;241m.\u001b[39mhand\u001b[38;5;241m.\u001b[39mresources\u001b[38;5;241m.\u001b[39mwood),\n\u001b[0;32m     81\u001b[0m                       random\u001b[38;5;241m.\u001b[39mrandint(\u001b[38;5;241m0\u001b[39m, \u001b[38;5;28mself\u001b[39m\u001b[38;5;241m.\u001b[39mhand\u001b[38;5;241m.\u001b[39mresources\u001b[38;5;241m.\u001b[39mwool))\n\u001b[0;32m     82\u001b[0m     receives \u001b[38;5;241m=\u001b[39m Materials(random\u001b[38;5;241m.\u001b[39mrandint(\u001b[38;5;241m0\u001b[39m, \u001b[38;5;28mself\u001b[39m\u001b[38;5;241m.\u001b[39mhand\u001b[38;5;241m.\u001b[39mresources\u001b[38;5;241m.\u001b[39mcereal),\n\u001b[0;32m     83\u001b[0m                          random\u001b[38;5;241m.\u001b[39mrandint(\u001b[38;5;241m0\u001b[39m, \u001b[38;5;28mself\u001b[39m\u001b[38;5;241m.\u001b[39mhand\u001b[38;5;241m.\u001b[39mresources\u001b[38;5;241m.\u001b[39mmineral),\n\u001b[0;32m     84\u001b[0m                          random\u001b[38;5;241m.\u001b[39mrandint(\u001b[38;5;241m0\u001b[39m, \u001b[38;5;28mself\u001b[39m\u001b[38;5;241m.\u001b[39mhand\u001b[38;5;241m.\u001b[39mresources\u001b[38;5;241m.\u001b[39mclay),\n\u001b[0;32m     85\u001b[0m                          random\u001b[38;5;241m.\u001b[39mrandint(\u001b[38;5;241m0\u001b[39m, \u001b[38;5;28mself\u001b[39m\u001b[38;5;241m.\u001b[39mhand\u001b[38;5;241m.\u001b[39mresources\u001b[38;5;241m.\u001b[39mwood),\n\u001b[0;32m     86\u001b[0m                          random\u001b[38;5;241m.\u001b[39mrandint(\u001b[38;5;241m0\u001b[39m, \u001b[38;5;28mself\u001b[39m\u001b[38;5;241m.\u001b[39mhand\u001b[38;5;241m.\u001b[39mresources\u001b[38;5;241m.\u001b[39mwool))\n\u001b[0;32m     87\u001b[0m     trade_offer \u001b[38;5;241m=\u001b[39m TradeOffer(gives, receives)\n",
      "File \u001b[1;32m~\\.rye\\py\\cpython@3.12.3\\Lib\\random.py:336\u001b[0m, in \u001b[0;36mRandom.randint\u001b[1;34m(self, a, b)\u001b[0m\n\u001b[0;32m    332\u001b[0m \u001b[38;5;28;01mdef\u001b[39;00m \u001b[38;5;21mrandint\u001b[39m(\u001b[38;5;28mself\u001b[39m, a, b):\n\u001b[0;32m    333\u001b[0m \u001b[38;5;250m    \u001b[39m\u001b[38;5;124;03m\"\"\"Return random integer in range [a, b], including both end points.\u001b[39;00m\n\u001b[0;32m    334\u001b[0m \u001b[38;5;124;03m    \"\"\"\u001b[39;00m\n\u001b[1;32m--> 336\u001b[0m     \u001b[38;5;28;01mreturn\u001b[39;00m \u001b[38;5;28;43mself\u001b[39;49m\u001b[38;5;241;43m.\u001b[39;49m\u001b[43mrandrange\u001b[49m\u001b[43m(\u001b[49m\u001b[43ma\u001b[49m\u001b[43m,\u001b[49m\u001b[43m \u001b[49m\u001b[43mb\u001b[49m\u001b[38;5;241;43m+\u001b[39;49m\u001b[38;5;241;43m1\u001b[39;49m\u001b[43m)\u001b[49m\n",
      "File \u001b[1;32m~\\.rye\\py\\cpython@3.12.3\\Lib\\random.py:319\u001b[0m, in \u001b[0;36mRandom.randrange\u001b[1;34m(self, start, stop, step)\u001b[0m\n\u001b[0;32m    317\u001b[0m     \u001b[38;5;28;01mif\u001b[39;00m width \u001b[38;5;241m>\u001b[39m \u001b[38;5;241m0\u001b[39m:\n\u001b[0;32m    318\u001b[0m         \u001b[38;5;28;01mreturn\u001b[39;00m istart \u001b[38;5;241m+\u001b[39m \u001b[38;5;28mself\u001b[39m\u001b[38;5;241m.\u001b[39m_randbelow(width)\n\u001b[1;32m--> 319\u001b[0m     \u001b[38;5;28;01mraise\u001b[39;00m \u001b[38;5;167;01mValueError\u001b[39;00m(\u001b[38;5;124mf\u001b[39m\u001b[38;5;124m\"\u001b[39m\u001b[38;5;124mempty range in randrange(\u001b[39m\u001b[38;5;132;01m{\u001b[39;00mstart\u001b[38;5;132;01m}\u001b[39;00m\u001b[38;5;124m, \u001b[39m\u001b[38;5;132;01m{\u001b[39;00mstop\u001b[38;5;132;01m}\u001b[39;00m\u001b[38;5;124m)\u001b[39m\u001b[38;5;124m\"\u001b[39m)\n\u001b[0;32m    321\u001b[0m \u001b[38;5;66;03m# Non-unit step argument supplied.\u001b[39;00m\n\u001b[0;32m    322\u001b[0m \u001b[38;5;28;01mif\u001b[39;00m istep \u001b[38;5;241m>\u001b[39m \u001b[38;5;241m0\u001b[39m:\n",
      "\u001b[1;31mValueError\u001b[0m: empty range in randrange(0, -1)"
     ]
    }
   ],
   "source": [
    "import sys\n",
    "sys.path.append('..') # This is to add the parent directory to the path\n",
    "\n",
    "from Managers.GameDirector import GameDirector\n",
    "from Agents.RandomAgent import RandomAgent as ra\n",
    "from Agents.AdrianHerasAgent import AdrianHerasAgent as aha\n",
    "import random\n",
    "\n",
    "game_director = GameDirector(agents=(ra, ra, aha, aha))\n",
    "for i in range(100):\n",
    "    random.seed(i)\n",
    "    game_director.game_start(i)"
   ]
  },
  {
   "cell_type": "code",
   "execution_count": 5,
   "metadata": {},
   "outputs": [
    {
     "name": "stdout",
     "output_type": "stream",
     "text": [
      " 1🥖  2🪨  3🧱  4🪵  5🧶\n",
      "total:  15\n",
      "max idx:  4\n",
      "resta de materiales:  -1🥖  0🪨  1🧱  2🪵  3🧶\n",
      "suma de materiales:   3🥖  4🪨  5🧱  6🪵  7🧶\n",
      "multiplicacion de materiales:   2🥖  4🪨  6🧱  8🪵 10🧶\n",
      "poner negativos a 0:  1🥖  2🪨  0🧱  4🪵  0🧶\n",
      "poner negativos a 0 alternativa:  1🥖  2🪨  0🧱  4🪵  0🧶\n",
      "añadir 10 al cereal: 11🥖  2🪨  3🧱  4🪵  5🧶\n"
     ]
    }
   ],
   "source": [
    "# operaciones sobre recursos como lista\n",
    "from Classes.Materials import Materials\n",
    "from Classes.Constants import MaterialConstants as mc\n",
    "\n",
    "# Crear y print\n",
    "mat1 = Materials(1,2,3,4,5)\n",
    "print(mat1)\n",
    "mat2 = Materials(2,2,2,2,2)\n",
    "\n",
    "\n",
    "print('total: ', sum(mat1))\n",
    "print('max idx: ', max(range(len(mat1)), key=mat1.get_from_id)) # con librerias como numpy esto es mas facil\n",
    "print('resta de materiales: ', mat1 - mat2)\n",
    "print('suma de materiales: ', mat1 + mat2)\n",
    "print('multiplicacion de materiales: ', mat1 * 2)\n",
    "mat3 = Materials(1,2,-3,4,-1)\n",
    "print('poner negativos a 0:', Materials(*map(lambda x: x if x > 0 else 0, mat3)))\n",
    "print('poner negativos a 0 alternativa:', Materials(*[x if x > 0 else 0 for x in mat3]))\n",
    "print('añadir 10 al cereal:', mat1.add_from_id(mc.CEREAL, 10))"
   ]
  },
  {
   "cell_type": "code",
   "execution_count": null,
   "metadata": {},
   "outputs": [],
   "source": []
  }
 ],
 "metadata": {
  "kernelspec": {
   "display_name": ".venv",
   "language": "python",
   "name": "python3"
  },
  "language_info": {
   "codemirror_mode": {
    "name": "ipython",
    "version": 3
   },
   "file_extension": ".py",
   "mimetype": "text/x-python",
   "name": "python",
   "nbconvert_exporter": "python",
   "pygments_lexer": "ipython3",
   "version": "3.12.3"
  }
 },
 "nbformat": 4,
 "nbformat_minor": 2
}
