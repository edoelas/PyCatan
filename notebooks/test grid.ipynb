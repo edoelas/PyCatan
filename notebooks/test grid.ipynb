{
 "cells": [
  {
   "cell_type": "code",
   "execution_count": 1,
   "metadata": {},
   "outputs": [],
   "source": [
    "%load_ext autoreload\n",
    "%autoreload 2\n",
    "\n",
    "import sys\n",
    "sys.path.append('..') # This is to add the parent directory to the path\n",
    "\n",
    "from Classes.Grid import *"
   ]
  },
  {
   "cell_type": "code",
   "execution_count": 2,
   "metadata": {},
   "outputs": [
    {
     "name": "stdout",
     "output_type": "stream",
     "text": [
      "True\n",
      "True\n",
      "\n",
      "            ┌     ┐╔     ╗╔     ╗\n",
      "            │-2, 0│║-2, 1║║-2, 2║\n",
      "            └     ┘╚     ╝╚     ╝\n",
      "         ┌     ┐┌     ┐╔     ╗┌     ┐\n",
      "         │-1,-1││-1, 0│║-1, 1║│-1, 2│\n",
      "         └     ┘└     ┘╚     ╝└     ┘\n",
      "      ┌     ┐┌     ┐┌     ┐┌     ┐┌     ┐\n",
      "      │ 0,-2││ 0,-1││ 0, 0││ 0, 1││ 0, 2│\n",
      "      └     ┘└     ┘└     ┘└     ┘└     ┘\n",
      "         ┌     ┐┌     ┐┌     ┐┌     ┐\n",
      "         │ 1,-2││ 1,-1││ 1, 0││ 1, 1│\n",
      "         └     ┘└     ┘└     ┘└     ┘\n",
      "            ┌     ┐┌     ┐┌     ┐\n",
      "            │ 2,-2││ 2,-1││ 2, 0│\n",
      "            └     ┘└     ┘└     ┘\n"
     ]
    }
   ],
   "source": [
    "g = Grid(2)\n",
    "a = Tile(-2,2)\n",
    "b = a.move(\"bl\")\n",
    "c = a.move(\"l\")\n",
    "g.marks = [a,b,c]\n",
    "print(g.is_inside(b))\n",
    "print(a.is_adjacent(b))\n",
    "print(g)"
   ]
  },
  {
   "cell_type": "code",
   "execution_count": 3,
   "metadata": {},
   "outputs": [
    {
     "name": "stdout",
     "output_type": "stream",
     "text": [
      "Vertex({ (0, -1), (1, -1), (0, 0),  })\n",
      "Vertex({ (-1, 0), (0, -1), (0, 0),  })\n",
      "Vertex({ (1, 0), (1, -1), (0, 0),  })\n",
      "Vertex({ (-1, 0), (-1, 1), (0, 0),  })\n",
      "Vertex({ (0, 1), (-1, 1), (0, 0),  })\n",
      "Vertex({ (0, 1), (1, 0), (0, 0),  })\n"
     ]
    }
   ],
   "source": [
    "t = Tile(0,0)\n",
    "v = Vertex({ (0, -1), (1, -1), (0, 0),  })\n",
    "\n",
    "for tile in t.adjacent_vertexes():\n",
    "    print(tile)"
   ]
  },
  {
   "cell_type": "code",
   "execution_count": 15,
   "metadata": {},
   "outputs": [
    {
     "name": "stdout",
     "output_type": "stream",
     "text": [
      "\n",
      "            ┌     ┐┌     ┐┌     ┐\n",
      "            │-2, 0││-2, 1││-2, 2│\n",
      "            └     ┘└     ┘└     ┘\n",
      "         ┌     ┐┌     ┐┌     ┐┌     ┐\n",
      "         │-1,-1││-1, 0││-1, 1││-1, 2│\n",
      "         └     ┘└     ┘└     ┘└     ┘\n",
      "      ┌     ┐┌     ┐┌     ┐┌     ┐┌     ┐\n",
      "      │ 0,-2││ 0,-1││ 0, 0││ 0, 1││ 0, 2│\n",
      "      └     ┘└     ┘└     ┘└     ┘└     ┘\n",
      "         ┌     ┐┌     ┐┌     ┐┌     ┐\n",
      "         │ 1,-2││ 1,-1││ 1, 0││ 1, 1│\n",
      "         └     ┘└     ┘└     ┘└     ┘\n",
      "            ┌     ┐┌     ┐┌     ┐\n",
      "            │ 2,-2││ 2,-1││ 2, 0│\n",
      "            └     ┘└     ┘└     ┘\n"
     ]
    }
   ],
   "source": [
    "print(g)"
   ]
  },
  {
   "cell_type": "code",
   "execution_count": 20,
   "metadata": {},
   "outputs": [
    {
     "name": "stdout",
     "output_type": "stream",
     "text": [
      "True\n"
     ]
    }
   ],
   "source": [
    "import itertools as it\n",
    "a = Tile(-1,1)\n",
    "b = Tile(-1,0)\n",
    "print(Tile.are_all_adjacent({Tile(0, 0)}))"
   ]
  },
  {
   "cell_type": "code",
   "execution_count": null,
   "metadata": {},
   "outputs": [],
   "source": []
  },
  {
   "cell_type": "code",
   "execution_count": null,
   "metadata": {},
   "outputs": [],
   "source": []
  }
 ],
 "metadata": {
  "kernelspec": {
   "display_name": ".venv",
   "language": "python",
   "name": "python3"
  },
  "language_info": {
   "codemirror_mode": {
    "name": "ipython",
    "version": 3
   },
   "file_extension": ".py",
   "mimetype": "text/x-python",
   "name": "python",
   "nbconvert_exporter": "python",
   "pygments_lexer": "ipython3",
   "version": "3.10.11"
  }
 },
 "nbformat": 4,
 "nbformat_minor": 2
}
