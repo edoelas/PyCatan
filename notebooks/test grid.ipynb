{
 "cells": [
  {
   "cell_type": "code",
   "execution_count": 1,
   "metadata": {},
   "outputs": [],
   "source": [
    "%load_ext autoreload\n",
    "%autoreload 2\n",
    "\n",
    "import sys\n",
    "sys.path.append('..') # This is to add the parent directory to the path\n",
    "\n",
    "from Classes.Grid import *"
   ]
  },
  {
   "cell_type": "code",
   "execution_count": 2,
   "metadata": {},
   "outputs": [
    {
     "data": {
      "text/plain": [
       "False"
      ]
     },
     "execution_count": 2,
     "metadata": {},
     "output_type": "execute_result"
    }
   ],
   "source": [
    "g = Grid(2)\n",
    "\n",
    "g.is_in(a)"
   ]
  },
  {
   "cell_type": "code",
   "execution_count": 8,
   "metadata": {},
   "outputs": [
    {
     "name": "stdout",
     "output_type": "stream",
     "text": [
      "\n",
      "            ┌     ┐┌     ┐┌     ┐\n",
      "            │-2, 0││-2, 1││-2, 2│\n",
      "            └     ┘└     ┘└     ┘\n",
      "         ┌     ┐┌     ┐┌     ┐┌     ┐\n",
      "         │-1,-1││-1, 0││-1, 1││-1, 2│\n",
      "         └     ┘└     ┘└     ┘└     ┘\n",
      "      ┌     ┐┌     ┐┌     ┐┌     ┐┌     ┐\n",
      "      │ 0,-2││ 0,-1││ 0, 0││ 0, 1││ 0, 2│\n",
      "      └     ┘└     ┘└     ┘└     ┘└     ┘\n",
      "         ┌     ┐┌     ┐┌     ┐╔     ╗\n",
      "         │ 1,-2││ 1,-1││ 1, 0│║ 1, 1║\n",
      "         └     ┘└     ┘└     ┘╚     ╝\n",
      "            ┌     ┐┌     ┐┌     ┐\n",
      "            │ 2,-2││ 2,-1││ 2, 0│\n",
      "            └     ┘└     ┘└     ┘\n"
     ]
    }
   ],
   "source": [
    "a = Tile(1,1)\n",
    "b = (-1,2)\n",
    "g.marks = [a, b]\n",
    "print(g)"
   ]
  },
  {
   "cell_type": "code",
   "execution_count": null,
   "metadata": {},
   "outputs": [],
   "source": []
  },
  {
   "cell_type": "code",
   "execution_count": null,
   "metadata": {},
   "outputs": [],
   "source": []
  }
 ],
 "metadata": {
  "kernelspec": {
   "display_name": ".venv",
   "language": "python",
   "name": "python3"
  },
  "language_info": {
   "codemirror_mode": {
    "name": "ipython",
    "version": 3
   },
   "file_extension": ".py",
   "mimetype": "text/x-python",
   "name": "python",
   "nbconvert_exporter": "python",
   "pygments_lexer": "ipython3",
   "version": "3.10.11"
  }
 },
 "nbformat": 4,
 "nbformat_minor": 2
}
